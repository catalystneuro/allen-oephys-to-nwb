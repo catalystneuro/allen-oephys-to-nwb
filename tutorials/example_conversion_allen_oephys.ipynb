{
 "cells": [
  {
   "cell_type": "code",
   "execution_count": null,
   "metadata": {},
   "outputs": [],
   "source": [
    "%load_ext autoreload\n",
    "%autoreload 2\n",
    "%matplotlib inline"
   ]
  },
  {
   "cell_type": "markdown",
   "metadata": {},
   "source": [
    "# Allen - OephysConverter\n",
    "This tutorial follows the step-by-step guide for a [NWB Converter](https://github.com/catalystneuro/nwb-conversion-tools/blob/master/documentation/conversion_tools_structure.md#step-by-step-operations)"
   ]
  },
  {
   "cell_type": "code",
   "execution_count": null,
   "metadata": {},
   "outputs": [],
   "source": [
    "from allen_oephys_to_nwb import AllenOephysNWBConverter\n",
    "from pynwb import NWBHDF5IO\n",
    "from nwbwidgets import nwb2widget\n",
    "from pathlib import Path\n",
    "import pprint"
   ]
  },
  {
   "cell_type": "markdown",
   "metadata": {},
   "source": [
    "## Step 1 - Converter.get_source_schema()"
   ]
  },
  {
   "cell_type": "code",
   "execution_count": null,
   "metadata": {
    "scrolled": false
   },
   "outputs": [],
   "source": [
    "# Get source_schema\n",
    "source_schema = AllenOephysNWBConverter.get_source_schema()\n",
    "\n",
    "print('Data Interfaces source data:')\n",
    "for k, v in source_schema['properties'].items():\n",
    "    print(f\"{k}: {list(v['properties'].keys())}\")"
   ]
  },
  {
   "cell_type": "markdown",
   "metadata": {},
   "source": [
    "## Step 2 - Get user-input source_data that complies to the returned full source_schema"
   ]
  },
  {
   "cell_type": "code",
   "execution_count": null,
   "metadata": {},
   "outputs": [],
   "source": [
    "# Source data\n",
    "base_name = 'Emx1-s_highzoom/102086'\n",
    "\n",
    "path_ecephys_raw = Path.cwd() / 'Emx1-s_highzoom/102086.h5'\n",
    "path_ecephys_processed = Path.cwd() / 'Emx1-s_highzoom/102086_processed.h5'\n",
    "path_subjects_info = Path.cwd() / 'Emx1-s_highzoom/subjects_info.json'\n",
    "path_tiff_red_channel = Path.cwd() / 'Emx1-s_highzoom/102086_2.tif'\n",
    "path_tiff_green_channel = Path.cwd() / 'Emx1-s_highzoom/102086_1.tif'\n",
    "path_ophys_processed = Path.cwd() / 'Emx1-s_highzoom/102086_processed.h5'\n",
    "\n",
    "source_data = dict(\n",
    "    AllenEcephysInterface=dict(\n",
    "        path_ecephys_raw=str(path_ecephys_raw),\n",
    "        path_ecephys_processed=str(path_ecephys_processed),\n",
    "        path_subjects_info=str(path_subjects_info)\n",
    "    ),\n",
    "    AllenOphysInterface=dict(\n",
    "        path_tiff_red_channel=str(path_tiff_red_channel),\n",
    "        path_tiff_green_channel=str(path_tiff_green_channel), \n",
    "        path_ophys_processed=str(path_ophys_processed),\n",
    "        path_subjects_info=str(path_subjects_info)\n",
    "    )\n",
    ")\n",
    "pprint.pprint(source_data, width=120)"
   ]
  },
  {
   "cell_type": "markdown",
   "metadata": {},
   "source": [
    "## Step 3 - Instantiate Converter"
   ]
  },
  {
   "cell_type": "code",
   "execution_count": null,
   "metadata": {},
   "outputs": [],
   "source": [
    "# Initialize converter\n",
    "converter = AllenOephysNWBConverter(source_data)\n",
    "\n",
    "print('Data interfaces for this converter:')\n",
    "pprint.pprint(converter.data_interface_objects, width=120)"
   ]
  },
  {
   "cell_type": "markdown",
   "metadata": {},
   "source": [
    "## Step 4 - Converter.get_metadata_schema()"
   ]
  },
  {
   "cell_type": "code",
   "execution_count": null,
   "metadata": {
    "scrolled": false
   },
   "outputs": [],
   "source": [
    "# Get metadata_schema\n",
    "metadata_schema = converter.get_metadata_schema()\n",
    "\n",
    "print('Metadata schema items:')\n",
    "for k, v in metadata_schema['properties'].items():\n",
    "    print(f\"- {k}\")\n",
    "    if k not in ['NWBFile', 'Subject']:\n",
    "        for kk in v['properties'].keys():\n",
    "            print(f\"---- {kk}\")"
   ]
  },
  {
   "cell_type": "markdown",
   "metadata": {},
   "source": [
    "## Step 5 - Automatically fetches available metadata with Converter.get_metadata()"
   ]
  },
  {
   "cell_type": "code",
   "execution_count": null,
   "metadata": {},
   "outputs": [],
   "source": [
    "# Get metadata from source data\n",
    "metadata = converter.get_metadata()\n",
    "pprint.pprint(metadata, width=120)"
   ]
  },
  {
   "cell_type": "markdown",
   "metadata": {},
   "source": [
    "## Step 6 - Get user-input metadata"
   ]
  },
  {
   "cell_type": "code",
   "execution_count": null,
   "metadata": {},
   "outputs": [],
   "source": [
    "metadata['NWBFile']['session_description'] = 'example conversion'\n",
    "pprint.pprint(metadata, width=120)"
   ]
  },
  {
   "cell_type": "markdown",
   "metadata": {},
   "source": [
    "## Step 7 - Converter.get_conversion_options_schema()"
   ]
  },
  {
   "cell_type": "code",
   "execution_count": null,
   "metadata": {},
   "outputs": [],
   "source": [
    "# Not used for this converter\n",
    "conversion_options_schema = converter.get_conversion_options_schema()\n",
    "conversion_options_schema"
   ]
  },
  {
   "cell_type": "markdown",
   "metadata": {},
   "source": [
    "## Step 8 - Get user-input conversion options\n",
    "Provide dictionary with conversion options according to Converter schema"
   ]
  },
  {
   "cell_type": "code",
   "execution_count": null,
   "metadata": {},
   "outputs": [],
   "source": [
    "conversion_options = dict(\n",
    "    AllenEcephysInterface=dict(\n",
    "        add_ecephys_raw=True,\n",
    "        add_ecephys_processed=True,\n",
    "        add_ecephys_spiking=True\n",
    "    ),\n",
    "    AllenOphysInterface=dict(\n",
    "        add_ophys_processed=True,\n",
    "        add_ophys_raw=True,\n",
    "        link_ophys_raw=False,\n",
    "    )\n",
    ")\n",
    "pprint.pprint(conversion_options, width=120)"
   ]
  },
  {
   "cell_type": "markdown",
   "metadata": {},
   "source": [
    "## Step 9 - Run conversion user filled metadata and conversion_options"
   ]
  },
  {
   "cell_type": "code",
   "execution_count": null,
   "metadata": {
    "scrolled": false
   },
   "outputs": [],
   "source": [
    "output_file = 'output.nwb'\n",
    "save_to_file = True\n",
    "\n",
    "if save_to_file:\n",
    "    converter.run_conversion(\n",
    "        metadata=metadata, \n",
    "        nwbfile_path=output_file, \n",
    "        save_to_file=True,\n",
    "        conversion_options=conversion_options\n",
    "    )\n",
    "else:\n",
    "    nwbfile = converter.run_conversion(\n",
    "        metadata=metadata, \n",
    "        nwbfile_path=output_file, \n",
    "        save_to_file=False,\n",
    "        conversion_options=conversion_options\n",
    "    )"
   ]
  },
  {
   "cell_type": "markdown",
   "metadata": {},
   "source": [
    "## Final 1 - Check NWB file"
   ]
  },
  {
   "cell_type": "code",
   "execution_count": null,
   "metadata": {
    "scrolled": false
   },
   "outputs": [],
   "source": [
    "# load file\n",
    "with NWBHDF5IO(output_file, 'r') as io:\n",
    "    nwbfile = io.read()\n",
    "    print(nwbfile)"
   ]
  },
  {
   "cell_type": "markdown",
   "metadata": {
    "scrolled": false
   },
   "source": [
    "## Final 2 - Check NWB file with widgets"
   ]
  },
  {
   "cell_type": "code",
   "execution_count": null,
   "metadata": {
    "scrolled": false
   },
   "outputs": [],
   "source": [
    "io = NWBHDF5IO(output_file, 'r')\n",
    "nwbfile = io.read()\n",
    "nwb2widget(nwbfile)"
   ]
  },
  {
   "cell_type": "code",
   "execution_count": null,
   "metadata": {},
   "outputs": [],
   "source": []
  },
  {
   "cell_type": "code",
   "execution_count": null,
   "metadata": {
    "scrolled": false
   },
   "outputs": [],
   "source": []
  },
  {
   "cell_type": "code",
   "execution_count": null,
   "metadata": {},
   "outputs": [],
   "source": []
  },
  {
   "cell_type": "code",
   "execution_count": null,
   "metadata": {},
   "outputs": [],
   "source": []
  },
  {
   "cell_type": "code",
   "execution_count": null,
   "metadata": {},
   "outputs": [],
   "source": []
  }
 ],
 "metadata": {
  "kernelspec": {
   "display_name": "Python 3",
   "language": "python",
   "name": "python3"
  },
  "language_info": {
   "codemirror_mode": {
    "name": "ipython",
    "version": 3
   },
   "file_extension": ".py",
   "mimetype": "text/x-python",
   "name": "python",
   "nbconvert_exporter": "python",
   "pygments_lexer": "ipython3",
   "version": "3.7.7"
  }
 },
 "nbformat": 4,
 "nbformat_minor": 4
}
